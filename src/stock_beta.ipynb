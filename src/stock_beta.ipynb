{
 "cells": [
  {
   "cell_type": "markdown",
   "id": "587995af-4cf1-4c60-b67d-c9d23072cc23",
   "metadata": {},
   "source": [
    "# Beta\n",
    "\n",
    "- The beta of a stock is defined as the slope in:\n",
    "`stock_returns - rf = a + b * (market_returns - rf) + error`\n",
    "- with market_returns = S&P 500\n",
    "- with rf = risk-free rate\n",
    "- if beta is 1, it means the stock moves identical to the market\n",
    "- a lower beta means the stock is less volatile than the market"
   ]
  },
  {
   "cell_type": "code",
   "execution_count": 1,
   "id": "5b834d34",
   "metadata": {
    "scrolled": true
   },
   "outputs": [],
   "source": [
    "import pandas_datareader.data as reader\n",
    "import datetime as dt\n",
    "import matplotlib.pyplot as plt"
   ]
  },
  {
   "cell_type": "code",
   "execution_count": 2,
   "id": "e744b3b8",
   "metadata": {},
   "outputs": [],
   "source": [
    "end = dt.datetime.now()\n",
    "start = dt.date(end.year - 5, end.month, end.day)\n",
    "stocks = [\"MSFT\", \"^GSPC\"]"
   ]
  },
  {
   "cell_type": "code",
   "execution_count": 3,
   "id": "c7cb4753",
   "metadata": {},
   "outputs": [
    {
     "data": {
      "image/png": "[encoded data removed]",
      "text/plain": [
       "<Figure size 432x288 with 1 Axes>"
      ]
     },
     "metadata": {
      "needs_background": "light"
     },
     "output_type": "display_data"
    }
   ],
   "source": [
    "df = reader.get_data_yahoo(stocks, start, end)[\"Adj Close\"]\n",
    "df.plot()\n",
    "plt.show()"
   ]
  },
  {
   "cell_type": "code",
   "execution_count": 4,
   "id": "ade1944a-800c-46bf-971d-fb54ce041b9e",
   "metadata": {},
   "outputs": [
    {
     "data": {
      "text/html": [
       "<div>\n",
       "<style scoped>\n",
       "    .dataframe tbody tr th:only-of-type {\n",
       "        vertical-align: middle;\n",
       "    }\n",
       "\n",
       "    .dataframe tbody tr th {\n",
       "        vertical-align: top;\n",
       "    }\n",
       "\n",
       "    .dataframe thead th {\n",
       "        text-align: right;\n",
       "    }\n",
       "</style>\n",
       "<table border=\"1\" class=\"dataframe\">\n",
       "  <thead>\n",
       "    <tr style=\"text-align: right;\">\n",
       "      <th>Symbols</th>\n",
       "      <th>MSFT</th>\n",
       "      <th>^GSPC</th>\n",
       "    </tr>\n",
       "    <tr>\n",
       "      <th>Date</th>\n",
       "      <th></th>\n",
       "      <th></th>\n",
       "    </tr>\n",
       "  </thead>\n",
       "  <tbody>\n",
       "    <tr>\n",
       "      <th>2017-01-31</th>\n",
       "      <td>0.040393</td>\n",
       "      <td>0.017884</td>\n",
       "    </tr>\n",
       "    <tr>\n",
       "      <th>2017-02-28</th>\n",
       "      <td>-0.004364</td>\n",
       "      <td>0.037198</td>\n",
       "    </tr>\n",
       "    <tr>\n",
       "      <th>2017-03-31</th>\n",
       "      <td>0.029384</td>\n",
       "      <td>-0.000389</td>\n",
       "    </tr>\n",
       "    <tr>\n",
       "      <th>2017-04-30</th>\n",
       "      <td>0.039478</td>\n",
       "      <td>0.009091</td>\n",
       "    </tr>\n",
       "    <tr>\n",
       "      <th>2017-05-31</th>\n",
       "      <td>0.026005</td>\n",
       "      <td>0.011576</td>\n",
       "    </tr>\n",
       "  </tbody>\n",
       "</table>\n",
       "</div>"
      ],
      "text/plain": [
       "Symbols         MSFT     ^GSPC\n",
       "Date                          \n",
       "2017-01-31  0.040393  0.017884\n",
       "2017-02-28 -0.004364  0.037198\n",
       "2017-03-31  0.029384 -0.000389\n",
       "2017-04-30  0.039478  0.009091\n",
       "2017-05-31  0.026005  0.011576"
      ]
     },
     "execution_count": 4,
     "metadata": {},
     "output_type": "execute_result"
    }
   ],
   "source": [
    "monthly_returns = df.resample(\"M\").ffill().pct_change()\n",
    "monthly_returns = monthly_returns.dropna(axis=0)\n",
    "monthly_returns.head()"
   ]
  },
  {
   "cell_type": "markdown",
   "id": "715091de-9b3b-45bf-a5b2-8e5a0ac5ca30",
   "metadata": {},
   "source": [
    "## Using sklearn LinearRegression"
   ]
  },
  {
   "cell_type": "code",
   "execution_count": 5,
   "id": "15d123c6-5d40-4424-b7d4-c81dccf831a8",
   "metadata": {},
   "outputs": [
    {
     "name": "stdout",
     "output_type": "stream",
     "text": [
      "[[ 1.78843582e-02  1.00000000e+00]\n",
      " [ 3.71981601e-02  1.00000000e+00]\n",
      " [-3.89197135e-04  1.00000000e+00]\n",
      " [ 9.09120875e-03  1.00000000e+00]\n",
      " [ 1.15762512e-02  1.00000000e+00]]\n"
     ]
    },
    {
     "data": {
      "text/plain": [
       "0.5445367835908328"
      ]
     },
     "execution_count": 5,
     "metadata": {},
     "output_type": "execute_result"
    }
   ],
   "source": [
    "from sklearn.linear_model import LinearRegression\n",
    "\n",
    "model = LinearRegression()\n",
    "X = monthly_returns.assign(bias=1)[[\"^GSPC\", \"bias\"]].values.reshape(monthly_returns.shape[0], 2)\n",
    "y = monthly_returns[\"MSFT\"].values.reshape(monthly_returns.shape[0], 1)\n",
    "print(X[:5])\n",
    "model.fit(X, y)\n",
    "model.score(X, y)"
   ]
  },
  {
   "cell_type": "code",
   "execution_count": 6,
   "id": "5e9c4ade-3edd-442c-b80b-18eca69a9020",
   "metadata": {},
   "outputs": [
    {
     "data": {
      "text/plain": [
       "array([[0.87935227, 0.        ]])"
      ]
     },
     "execution_count": 6,
     "metadata": {},
     "output_type": "execute_result"
    }
   ],
   "source": [
    "model.coef_"
   ]
  },
  {
   "cell_type": "code",
   "execution_count": 7,
   "id": "c4f51992-1a36-4d10-85e7-14695df2b7cb",
   "metadata": {},
   "outputs": [
    {
     "data": {
      "image/png": "[encoded data removed]",
      "text/plain": [
       "<Figure size 288x216 with 1 Axes>"
      ]
     },
     "metadata": {
      "needs_background": "light"
     },
     "output_type": "display_data"
    }
   ],
   "source": [
    "plt.figure(figsize=(4, 3))\n",
    "ax = plt.axes()\n",
    "ax.scatter(X[:, 0], y)\n",
    "ax.plot(X[:, 0], model.predict(X))\n",
    "\n",
    "ax.set_xlabel('S&P 500')\n",
    "ax.set_ylabel('MSFT')\n",
    "\n",
    "ax.axis('tight')\n",
    "\n",
    "plt.show()"
   ]
  },
  {
   "cell_type": "markdown",
   "id": "201f6567-651b-4af7-a1b7-b437a970aeeb",
   "metadata": {},
   "source": [
    "## Using statsmodels Ordinary Least Squares"
   ]
  },
  {
   "cell_type": "code",
   "execution_count": 8,
   "id": "06daa1e5-6d33-4484-912d-4c59d7d3c45d",
   "metadata": {},
   "outputs": [
    {
     "data": {
      "text/html": [
       "<table class=\"simpletable\">\n",
       "<caption>OLS Regression Results</caption>\n",
       "<tr>\n",
       "  <th>Dep. Variable:</th>          <td>MSFT</td>       <th>  R-squared:         </th> <td>   0.545</td>\n",
       "</tr>\n",
       "<tr>\n",
       "  <th>Model:</th>                   <td>OLS</td>       <th>  Adj. R-squared:    </th> <td>   0.537</td>\n",
       "</tr>\n",
       "<tr>\n",
       "  <th>Method:</th>             <td>Least Squares</td>  <th>  F-statistic:       </th> <td>   69.34</td>\n",
       "</tr>\n",
       "<tr>\n",
       "  <th>Date:</th>             <td>Sun, 05 Dec 2021</td> <th>  Prob (F-statistic):</th> <td>1.74e-11</td>\n",
       "</tr>\n",
       "<tr>\n",
       "  <th>Time:</th>                 <td>17:36:18</td>     <th>  Log-Likelihood:    </th> <td>  115.42</td>\n",
       "</tr>\n",
       "<tr>\n",
       "  <th>No. Observations:</th>      <td>    60</td>      <th>  AIC:               </th> <td>  -226.8</td>\n",
       "</tr>\n",
       "<tr>\n",
       "  <th>Df Residuals:</th>          <td>    58</td>      <th>  BIC:               </th> <td>  -222.7</td>\n",
       "</tr>\n",
       "<tr>\n",
       "  <th>Df Model:</th>              <td>     1</td>      <th>                     </th>     <td> </td>   \n",
       "</tr>\n",
       "<tr>\n",
       "  <th>Covariance Type:</th>      <td>nonrobust</td>    <th>                     </th>     <td> </td>   \n",
       "</tr>\n",
       "</table>\n",
       "<table class=\"simpletable\">\n",
       "<tr>\n",
       "    <td></td>       <th>coef</th>     <th>std err</th>      <th>t</th>      <th>P>|t|</th>  <th>[0.025</th>    <th>0.975]</th>  \n",
       "</tr>\n",
       "<tr>\n",
       "  <th>const</th> <td>    0.0192</td> <td>    0.005</td> <td>    3.962</td> <td> 0.000</td> <td>    0.009</td> <td>    0.029</td>\n",
       "</tr>\n",
       "<tr>\n",
       "  <th>^GSPC</th> <td>    0.8794</td> <td>    0.106</td> <td>    8.327</td> <td> 0.000</td> <td>    0.668</td> <td>    1.091</td>\n",
       "</tr>\n",
       "</table>\n",
       "<table class=\"simpletable\">\n",
       "<tr>\n",
       "  <th>Omnibus:</th>       <td> 2.755</td> <th>  Durbin-Watson:     </th> <td>   2.495</td>\n",
       "</tr>\n",
       "<tr>\n",
       "  <th>Prob(Omnibus):</th> <td> 0.252</td> <th>  Jarque-Bera (JB):  </th> <td>   2.350</td>\n",
       "</tr>\n",
       "<tr>\n",
       "  <th>Skew:</th>          <td> 0.485</td> <th>  Prob(JB):          </th> <td>   0.309</td>\n",
       "</tr>\n",
       "<tr>\n",
       "  <th>Kurtosis:</th>      <td> 2.980</td> <th>  Cond. No.          </th> <td>    22.8</td>\n",
       "</tr>\n",
       "</table><br/><br/>Notes:<br/>[1] Standard Errors assume that the covariance matrix of the errors is correctly specified."
      ],
      "text/plain": [
       "<class 'statsmodels.iolib.summary.Summary'>\n",
       "\"\"\"\n",
       "                            OLS Regression Results                            \n",
       "==============================================================================\n",
       "Dep. Variable:                   MSFT   R-squared:                       0.545\n",
       "Model:                            OLS   Adj. R-squared:                  0.537\n",
       "Method:                 Least Squares   F-statistic:                     69.34\n",
       "Date:                Sun, 05 Dec 2021   Prob (F-statistic):           1.74e-11\n",
       "Time:                        17:36:18   Log-Likelihood:                 115.42\n",
       "No. Observations:                  60   AIC:                            -226.8\n",
       "Df Residuals:                      58   BIC:                            -222.7\n",
       "Df Model:                           1                                         \n",
       "Covariance Type:            nonrobust                                         \n",
       "==============================================================================\n",
       "                 coef    std err          t      P>|t|      [0.025      0.975]\n",
       "------------------------------------------------------------------------------\n",
       "const          0.0192      0.005      3.962      0.000       0.009       0.029\n",
       "^GSPC          0.8794      0.106      8.327      0.000       0.668       1.091\n",
       "==============================================================================\n",
       "Omnibus:                        2.755   Durbin-Watson:                   2.495\n",
       "Prob(Omnibus):                  0.252   Jarque-Bera (JB):                2.350\n",
       "Skew:                           0.485   Prob(JB):                        0.309\n",
       "Kurtosis:                       2.980   Cond. No.                         22.8\n",
       "==============================================================================\n",
       "\n",
       "Notes:\n",
       "[1] Standard Errors assume that the covariance matrix of the errors is correctly specified.\n",
       "\"\"\""
      ]
     },
     "execution_count": 8,
     "metadata": {},
     "output_type": "execute_result"
    }
   ],
   "source": [
    "import statsmodels.api as sm\n",
    "\n",
    "X = monthly_returns[\"^GSPC\"]\n",
    "y = monthly_returns[\"MSFT\"]\n",
    "\n",
    "X_sm = sm.add_constant(X)\n",
    "model = sm.OLS(y, X_sm)\n",
    "results = model.fit()\n",
    "results.summary()"
   ]
  },
  {
   "cell_type": "code",
   "execution_count": 9,
   "id": "f37bfd15-f0c8-4d89-8802-43b220178553",
   "metadata": {},
   "outputs": [
    {
     "name": "stdout",
     "output_type": "stream",
     "text": [
      "(58,)\n"
     ]
    },
    {
     "data": {
      "text/plain": [
       "Date\n",
       "2021-06    0.0\n",
       "2021-07    0.0\n",
       "2021-08    0.0\n",
       "2021-09    0.0\n",
       "2021-10    0.0\n",
       "Freq: M, Name: RF, dtype: float64"
      ]
     },
     "execution_count": 9,
     "metadata": {},
     "output_type": "execute_result"
    }
   ],
   "source": [
    "rf = reader.DataReader(\"F-F_Research_Data_Factors\", \"famafrench\", start, end)[0].RF\n",
    "rf = rf[1:]\n",
    "print(rf.shape)\n",
    "rf.tail()"
   ]
  },
  {
   "cell_type": "code",
   "execution_count": 10,
   "id": "84a5c3b8-4766-4d30-b82c-f0996c5a73d3",
   "metadata": {},
   "outputs": [
    {
     "name": "stdout",
     "output_type": "stream",
     "text": [
      "(58, 2)\n"
     ]
    },
    {
     "data": {
      "text/html": [
       "<div>\n",
       "<style scoped>\n",
       "    .dataframe tbody tr th:only-of-type {\n",
       "        vertical-align: middle;\n",
       "    }\n",
       "\n",
       "    .dataframe tbody tr th {\n",
       "        vertical-align: top;\n",
       "    }\n",
       "\n",
       "    .dataframe thead th {\n",
       "        text-align: right;\n",
       "    }\n",
       "</style>\n",
       "<table border=\"1\" class=\"dataframe\">\n",
       "  <thead>\n",
       "    <tr style=\"text-align: right;\">\n",
       "      <th>Symbols</th>\n",
       "      <th>MSFT</th>\n",
       "      <th>^GSPC</th>\n",
       "    </tr>\n",
       "    <tr>\n",
       "      <th>Date</th>\n",
       "      <th></th>\n",
       "      <th></th>\n",
       "    </tr>\n",
       "  </thead>\n",
       "  <tbody>\n",
       "    <tr>\n",
       "      <th>2021-06-30</th>\n",
       "      <td>0.084989</td>\n",
       "      <td>0.022214</td>\n",
       "    </tr>\n",
       "    <tr>\n",
       "      <th>2021-07-31</th>\n",
       "      <td>0.051717</td>\n",
       "      <td>0.022748</td>\n",
       "    </tr>\n",
       "    <tr>\n",
       "      <th>2021-08-31</th>\n",
       "      <td>0.061591</td>\n",
       "      <td>0.028990</td>\n",
       "    </tr>\n",
       "    <tr>\n",
       "      <th>2021-09-30</th>\n",
       "      <td>-0.066119</td>\n",
       "      <td>-0.047569</td>\n",
       "    </tr>\n",
       "    <tr>\n",
       "      <th>2021-10-31</th>\n",
       "      <td>0.176291</td>\n",
       "      <td>0.069144</td>\n",
       "    </tr>\n",
       "  </tbody>\n",
       "</table>\n",
       "</div>"
      ],
      "text/plain": [
       "Symbols         MSFT     ^GSPC\n",
       "Date                          \n",
       "2021-06-30  0.084989  0.022214\n",
       "2021-07-31  0.051717  0.022748\n",
       "2021-08-31  0.061591  0.028990\n",
       "2021-09-30 -0.066119 -0.047569\n",
       "2021-10-31  0.176291  0.069144"
      ]
     },
     "execution_count": 10,
     "metadata": {},
     "output_type": "execute_result"
    }
   ],
   "source": [
    "monthly_returns = monthly_returns.iloc[:-2]\n",
    "\n",
    "print(monthly_returns.shape)\n",
    "monthly_returns.tail()"
   ]
  },
  {
   "cell_type": "code",
   "execution_count": 11,
   "id": "b4696064-4d37-41bb-8f04-759ca2c64891",
   "metadata": {},
   "outputs": [
    {
     "data": {
      "text/html": [
       "<div>\n",
       "<style scoped>\n",
       "    .dataframe tbody tr th:only-of-type {\n",
       "        vertical-align: middle;\n",
       "    }\n",
       "\n",
       "    .dataframe tbody tr th {\n",
       "        vertical-align: top;\n",
       "    }\n",
       "\n",
       "    .dataframe thead th {\n",
       "        text-align: right;\n",
       "    }\n",
       "</style>\n",
       "<table border=\"1\" class=\"dataframe\">\n",
       "  <thead>\n",
       "    <tr style=\"text-align: right;\">\n",
       "      <th>Symbols</th>\n",
       "      <th>MSFT</th>\n",
       "      <th>^GSPC</th>\n",
       "      <th>MSFT-rf</th>\n",
       "      <th>^GSPC-rf</th>\n",
       "    </tr>\n",
       "    <tr>\n",
       "      <th>Date</th>\n",
       "      <th></th>\n",
       "      <th></th>\n",
       "      <th></th>\n",
       "      <th></th>\n",
       "    </tr>\n",
       "  </thead>\n",
       "  <tbody>\n",
       "    <tr>\n",
       "      <th>2017-01-31</th>\n",
       "      <td>0.040393</td>\n",
       "      <td>0.017884</td>\n",
       "      <td>0.000393</td>\n",
       "      <td>-0.022116</td>\n",
       "    </tr>\n",
       "    <tr>\n",
       "      <th>2017-02-28</th>\n",
       "      <td>-0.004364</td>\n",
       "      <td>0.037198</td>\n",
       "      <td>-0.044364</td>\n",
       "      <td>-0.002802</td>\n",
       "    </tr>\n",
       "    <tr>\n",
       "      <th>2017-03-31</th>\n",
       "      <td>0.029384</td>\n",
       "      <td>-0.000389</td>\n",
       "      <td>-0.000616</td>\n",
       "      <td>-0.030389</td>\n",
       "    </tr>\n",
       "    <tr>\n",
       "      <th>2017-04-30</th>\n",
       "      <td>0.039478</td>\n",
       "      <td>0.009091</td>\n",
       "      <td>-0.010522</td>\n",
       "      <td>-0.040909</td>\n",
       "    </tr>\n",
       "    <tr>\n",
       "      <th>2017-05-31</th>\n",
       "      <td>0.026005</td>\n",
       "      <td>0.011576</td>\n",
       "      <td>-0.033995</td>\n",
       "      <td>-0.048424</td>\n",
       "    </tr>\n",
       "  </tbody>\n",
       "</table>\n",
       "</div>"
      ],
      "text/plain": [
       "Symbols         MSFT     ^GSPC   MSFT-rf  ^GSPC-rf\n",
       "Date                                              \n",
       "2017-01-31  0.040393  0.017884  0.000393 -0.022116\n",
       "2017-02-28 -0.004364  0.037198 -0.044364 -0.002802\n",
       "2017-03-31  0.029384 -0.000389 -0.000616 -0.030389\n",
       "2017-04-30  0.039478  0.009091 -0.010522 -0.040909\n",
       "2017-05-31  0.026005  0.011576 -0.033995 -0.048424"
      ]
     },
     "execution_count": 11,
     "metadata": {},
     "output_type": "execute_result"
    }
   ],
   "source": [
    "monthly_returns[\"MSFT-rf\"], monthly_returns[\"^GSPC-rf\"] = monthly_returns[\"MSFT\"] - rf.values, monthly_returns[\"^GSPC\"] - rf.values\n",
    "monthly_returns.head()"
   ]
  },
  {
   "cell_type": "code",
   "execution_count": 12,
   "id": "75d5cad7-5381-4f5a-b047-efbd846304c1",
   "metadata": {},
   "outputs": [
    {
     "data": {
      "text/plain": [
       "0.8608127016664759"
      ]
     },
     "execution_count": 12,
     "metadata": {},
     "output_type": "execute_result"
    }
   ],
   "source": [
    "model_rf = LinearRegression()\n",
    "X = monthly_returns.assign(bias=1)[[\"^GSPC-rf\", \"bias\"]].values.reshape(monthly_returns.shape[0], 2)\n",
    "y = monthly_returns[\"MSFT-rf\"].values.reshape(monthly_returns.shape[0], 1)\n",
    "model_rf.fit(X, y)\n",
    "model_rf.score(X, y)"
   ]
  },
  {
   "cell_type": "code",
   "execution_count": 13,
   "id": "6f849f2a-654f-4d94-b5bd-b47a2aa9faaa",
   "metadata": {},
   "outputs": [
    {
     "data": {
      "text/plain": [
       "array([[0.93590981, 0.        ]])"
      ]
     },
     "execution_count": 13,
     "metadata": {},
     "output_type": "execute_result"
    }
   ],
   "source": [
    "model_rf.coef_"
   ]
  },
  {
   "cell_type": "code",
   "execution_count": 14,
   "id": "1a5b3c59-d4b5-4577-bb3d-f86af9db7464",
   "metadata": {},
   "outputs": [
    {
     "data": {
      "image/png": "[encoded data removed]",
      "text/plain": [
       "<Figure size 288x216 with 1 Axes>"
      ]
     },
     "metadata": {
      "needs_background": "light"
     },
     "output_type": "display_data"
    }
   ],
   "source": [
    "plt.figure(figsize=(4, 3))\n",
    "ax = plt.axes()\n",
    "ax.scatter(X[:, 0], y)\n",
    "ax.plot(X[:, 0], model_rf.predict(X))\n",
    "\n",
    "ax.set_xlabel('S&P 500')\n",
    "ax.set_ylabel('MSFT')\n",
    "\n",
    "ax.axis('tight')\n",
    "\n",
    "plt.show()"
   ]
  },
  {
   "cell_type": "code",
   "execution_count": null,
   "id": "c120a25a-569b-4527-b9d7-8992374ce9a6",
   "metadata": {},
   "outputs": [],
   "source": []
  }
 ],
 "metadata": {
  "kernelspec": {
   "display_name": "Python 3 (ipykernel)",
   "language": "python",
   "name": "python3"
  },
  "language_info": {
   "codemirror_mode": {
    "name": "ipython",
    "version": 3
   },
   "file_extension": ".py",
   "mimetype": "text/x-python",
   "name": "python",
   "nbconvert_exporter": "python",
   "pygments_lexer": "ipython3",
   "version": "3.9.5"
  }
 },
 "nbformat": 4,
 "nbformat_minor": 5
}
