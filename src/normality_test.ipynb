{
 "cells": [
  {
   "cell_type": "markdown",
   "id": "6d02ae7c-622d-4988-b60f-1f4136928db8",
   "metadata": {},
   "source": [
    "# Normality test"
   ]
  },
  {
   "cell_type": "code",
   "execution_count": 1,
   "id": "0bcfe878-a1f5-452b-8723-e4d0057ef4ae",
   "metadata": {},
   "outputs": [],
   "source": [
    "import yfinance as yf\n",
    "from statsmodels.stats.stattools import jarque_bera"
   ]
  },
  {
   "cell_type": "code",
   "execution_count": 2,
   "id": "0cf0cd92-f5b9-46f1-a22d-2d40b1a42f20",
   "metadata": {},
   "outputs": [
    {
     "name": "stdout",
     "output_type": "stream",
     "text": [
      "YF.download() has changed argument auto_adjust default to True\n"
     ]
    },
    {
     "name": "stderr",
     "output_type": "stream",
     "text": [
      "[*********************100%***********************]  4 of 4 completed\n"
     ]
    },
    {
     "data": {
      "text/html": [
       "<div>\n",
       "<style scoped>\n",
       "    .dataframe tbody tr th:only-of-type {\n",
       "        vertical-align: middle;\n",
       "    }\n",
       "\n",
       "    .dataframe tbody tr th {\n",
       "        vertical-align: top;\n",
       "    }\n",
       "\n",
       "    .dataframe thead th {\n",
       "        text-align: right;\n",
       "    }\n",
       "</style>\n",
       "<table border=\"1\" class=\"dataframe\">\n",
       "  <thead>\n",
       "    <tr style=\"text-align: right;\">\n",
       "      <th>Ticker</th>\n",
       "      <th>EN.PA</th>\n",
       "      <th>PE500.PA</th>\n",
       "      <th>SPY</th>\n",
       "      <th>TTE.PA</th>\n",
       "    </tr>\n",
       "    <tr>\n",
       "      <th>Date</th>\n",
       "      <th></th>\n",
       "      <th></th>\n",
       "      <th></th>\n",
       "      <th></th>\n",
       "    </tr>\n",
       "  </thead>\n",
       "  <tbody>\n",
       "    <tr>\n",
       "      <th>2020-04-06</th>\n",
       "      <td>21.961622</td>\n",
       "      <td>18.764000</td>\n",
       "      <td>246.261322</td>\n",
       "      <td>24.707333</td>\n",
       "    </tr>\n",
       "    <tr>\n",
       "      <th>2020-04-07</th>\n",
       "      <td>21.831535</td>\n",
       "      <td>19.410999</td>\n",
       "      <td>246.512375</td>\n",
       "      <td>25.036125</td>\n",
       "    </tr>\n",
       "    <tr>\n",
       "      <th>2020-04-08</th>\n",
       "      <td>22.221792</td>\n",
       "      <td>19.413000</td>\n",
       "      <td>254.787415</td>\n",
       "      <td>24.754826</td>\n",
       "    </tr>\n",
       "    <tr>\n",
       "      <th>2020-04-09</th>\n",
       "      <td>23.155354</td>\n",
       "      <td>19.768999</td>\n",
       "      <td>258.664612</td>\n",
       "      <td>24.568506</td>\n",
       "    </tr>\n",
       "    <tr>\n",
       "      <th>2020-04-13</th>\n",
       "      <td>NaN</td>\n",
       "      <td>NaN</td>\n",
       "      <td>256.302948</td>\n",
       "      <td>NaN</td>\n",
       "    </tr>\n",
       "    <tr>\n",
       "      <th>...</th>\n",
       "      <td>...</td>\n",
       "      <td>...</td>\n",
       "      <td>...</td>\n",
       "      <td>...</td>\n",
       "    </tr>\n",
       "    <tr>\n",
       "      <th>2025-03-31</th>\n",
       "      <td>36.410000</td>\n",
       "      <td>41.623001</td>\n",
       "      <td>559.390015</td>\n",
       "      <td>59.660000</td>\n",
       "    </tr>\n",
       "    <tr>\n",
       "      <th>2025-04-01</th>\n",
       "      <td>36.959999</td>\n",
       "      <td>42.257999</td>\n",
       "      <td>560.969971</td>\n",
       "      <td>59.490002</td>\n",
       "    </tr>\n",
       "    <tr>\n",
       "      <th>2025-04-02</th>\n",
       "      <td>36.990002</td>\n",
       "      <td>42.223999</td>\n",
       "      <td>564.520020</td>\n",
       "      <td>59.410000</td>\n",
       "    </tr>\n",
       "    <tr>\n",
       "      <th>2025-04-03</th>\n",
       "      <td>37.060001</td>\n",
       "      <td>40.028000</td>\n",
       "      <td>536.700012</td>\n",
       "      <td>56.599998</td>\n",
       "    </tr>\n",
       "    <tr>\n",
       "      <th>2025-04-04</th>\n",
       "      <td>35.580002</td>\n",
       "      <td>38.277000</td>\n",
       "      <td>505.279999</td>\n",
       "      <td>53.070000</td>\n",
       "    </tr>\n",
       "  </tbody>\n",
       "</table>\n",
       "<p>1293 rows × 4 columns</p>\n",
       "</div>"
      ],
      "text/plain": [
       "Ticker          EN.PA   PE500.PA         SPY     TTE.PA\n",
       "Date                                                   \n",
       "2020-04-06  21.961622  18.764000  246.261322  24.707333\n",
       "2020-04-07  21.831535  19.410999  246.512375  25.036125\n",
       "2020-04-08  22.221792  19.413000  254.787415  24.754826\n",
       "2020-04-09  23.155354  19.768999  258.664612  24.568506\n",
       "2020-04-13        NaN        NaN  256.302948        NaN\n",
       "...               ...        ...         ...        ...\n",
       "2025-03-31  36.410000  41.623001  559.390015  59.660000\n",
       "2025-04-01  36.959999  42.257999  560.969971  59.490002\n",
       "2025-04-02  36.990002  42.223999  564.520020  59.410000\n",
       "2025-04-03  37.060001  40.028000  536.700012  56.599998\n",
       "2025-04-04  35.580002  38.277000  505.279999  53.070000\n",
       "\n",
       "[1293 rows x 4 columns]"
      ]
     },
     "execution_count": 2,
     "metadata": {},
     "output_type": "execute_result"
    }
   ],
   "source": [
    "stocks = yf.download([\"spy\", \"PE500.PA\", \"TTE.PA\", \"EN.PA\"], period=\"5y\")[\"Close\"]\n",
    "stocks"
   ]
  },
  {
   "cell_type": "code",
   "execution_count": 3,
   "id": "49d1ea1e-7ef1-4f30-9b90-0372ac0e4d90",
   "metadata": {},
   "outputs": [
    {
     "data": {
      "text/plain": [
       "array([[<Axes: title={'center': 'EN.PA'}>,\n",
       "        <Axes: title={'center': 'PE500.PA'}>],\n",
       "       [<Axes: title={'center': 'SPY'}>,\n",
       "        <Axes: title={'center': 'TTE.PA'}>]], dtype=object)"
      ]
     },
     "execution_count": 3,
     "metadata": {},
     "output_type": "execute_result"
    },
    {
     "data": {
      "image/png": "[encoded data removed]",
      "text/plain": [
       "<Figure size 640x480 with 4 Axes>"
      ]
     },
     "metadata": {},
     "output_type": "display_data"
    }
   ],
   "source": [
    "stocks = stocks.dropna().pct_change()[1:]\n",
    "stocks.hist(bins=20)"
   ]
  },
  {
   "cell_type": "code",
   "execution_count": 4,
   "id": "873593ae-5c5e-4767-bf6b-1c9f8e9eb9b7",
   "metadata": {},
   "outputs": [
    {
     "data": {
      "text/plain": [
       "(array([1214.17031354,  377.16944747,  405.43500643, 1867.99990791]),\n",
       " array([2.21955735e-264, 1.25514850e-082, 9.13917447e-089, 0.00000000e+000]),\n",
       " array([-0.0473832 , -0.37961139, -0.50531161,  0.44910079]),\n",
       " array([7.83507264, 5.58620994, 5.60537573, 8.93076475]))"
      ]
     },
     "execution_count": 4,
     "metadata": {},
     "output_type": "execute_result"
    }
   ],
   "source": [
    "jarque_bera(stocks)"
   ]
  },
  {
   "cell_type": "markdown",
   "id": "c7f05361-d75d-40ab-82d0-30336f316a2e",
   "metadata": {},
   "source": [
    "## Conclusion\n",
    "\n",
    "- p-values are all below 0.05, so we reject that tested returns follow a normal distribution\n",
    "- all kurtosis are a lot higher than 3, so we got high peaks and fat tails"
   ]
  },
  {
   "cell_type": "code",
   "execution_count": null,
   "id": "0d543bb4-f175-41b7-ae05-dc5ea37b98c3",
   "metadata": {},
   "outputs": [],
   "source": []
  }
 ],
 "metadata": {
  "kernelspec": {
   "display_name": "Python 3 (ipykernel)",
   "language": "python",
   "name": "python3"
  },
  "language_info": {
   "codemirror_mode": {
    "name": "ipython",
    "version": 3
   },
   "file_extension": ".py",
   "mimetype": "text/x-python",
   "name": "python",
   "nbconvert_exporter": "python",
   "pygments_lexer": "ipython3",
   "version": "3.10.12"
  }
 },
 "nbformat": 4,
 "nbformat_minor": 5
}
